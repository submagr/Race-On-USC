{
 "cells": [
  {
   "cell_type": "code",
   "execution_count": 1,
   "metadata": {},
   "outputs": [],
   "source": [
    "debug = False\n",
    "\n",
    "from picamera import PiCamera\n",
    "from picamera.array import PiRGBArray, PiYUVArray\n",
    "from scipy.signal import filtfilt, butter, find_peaks\n",
    "from pwm import PWM\n",
    "import sys\n",
    "from time import sleep\n",
    "import threading\n",
    "import ipywidgets as widgets\n"
   ]
  },
  {
   "cell_type": "code",
   "execution_count": 2,
   "metadata": {},
   "outputs": [
    {
     "name": "stdout",
     "output_type": "stream",
     "text": [
      "waiting for motor\n",
      "motor ready\n"
     ]
    }
   ],
   "source": [
    "minSpeed =  1000000 # 0 speed\n",
    "zeroRot  =  1000000\n",
    "maxRot   =   500000\n",
    "rot = zeroRot\n",
    "\n",
    "\n",
    "pwm0 = PWM(0)  # motor\n",
    "# pwm0.export()\n",
    "pwm0.period = 20000000\n",
    "pwm0.duty_cycle = minSpeed\n",
    "\n",
    "pwm1 = PWM(1)  # servo\n",
    "# pwm1.export() \n",
    "pwm1.period = 20000000\n",
    "pwm1.duty_cycle = zeroRot \n",
    "\n",
    "pwm0.enable = True\n",
    "pwm1.enable = True\n",
    "\n",
    "if not debug:\n",
    "    print(\"waiting for motor\")\n",
    "    sleep(3)\n",
    "    print(\"motor ready\")"
   ]
  },
  {
   "cell_type": "code",
   "execution_count": 3,
   "metadata": {},
   "outputs": [
    {
     "data": {
      "application/vnd.jupyter.widget-view+json": {
       "model_id": "fde1b3190c024b81a25663e0c632f7a0",
       "version_major": 2,
       "version_minor": 0
      },
      "text/plain": [
       "FloatSlider(value=0.8, description='ROI line', max=1.0)"
      ]
     },
     "metadata": {},
     "output_type": "display_data"
    },
    {
     "data": {
      "application/vnd.jupyter.widget-view+json": {
       "model_id": "561bc926907a457a94a6dc862f054ea0",
       "version_major": 2,
       "version_minor": 0
      },
      "text/plain": [
       "FloatSlider(value=0.9, description='Peak threshold', max=1.0)"
      ]
     },
     "metadata": {},
     "output_type": "display_data"
    },
    {
     "data": {
      "application/vnd.jupyter.widget-view+json": {
       "model_id": "d6c5defdaf9343f4bf8a32d8cd0d4775",
       "version_major": 2,
       "version_minor": 0
      },
      "text/plain": [
       "FloatSlider(value=0.15, description='Threshold deviation', max=1.0)"
      ]
     },
     "metadata": {},
     "output_type": "display_data"
    },
    {
     "data": {
      "application/vnd.jupyter.widget-view+json": {
       "model_id": "10b3ad9a03da41f69fff0c4b2aefd85c",
       "version_major": 2,
       "version_minor": 0
      },
      "text/plain": [
       "IntSlider(value=2500, description='Kp', max=4000, min=1000, step=50)"
      ]
     },
     "metadata": {},
     "output_type": "display_data"
    },
    {
     "data": {
      "application/vnd.jupyter.widget-view+json": {
       "model_id": "7fa55049c18c4397a73684f2ffa50b17",
       "version_major": 2,
       "version_minor": 0
      },
      "text/plain": [
       "IntSlider(value=1200000, description='Speed', max=2000000, min=1000000, step=100000)"
      ]
     },
     "metadata": {},
     "output_type": "display_data"
    },
    {
     "data": {
      "application/vnd.jupyter.widget-view+json": {
       "model_id": "979ba996799a4f41af4f990f31e6b5dc",
       "version_major": 2,
       "version_minor": 0
      },
      "text/plain": [
       "Checkbox(value=False, description='Terminate')"
      ]
     },
     "metadata": {},
     "output_type": "display_data"
    }
   ],
   "source": [
    "roi_perc = 0.5\n",
    "peaks_threshold = 0.9\n",
    "threshold_deviation = 0.15\n",
    "kp = 2500\n",
    "speed = 1150000\n",
    "terminate = False\n",
    "# if debug:\n",
    "#     speed = minSpeed\n",
    "\n",
    "def set_r_s(r):\n",
    "    global roi_perc\n",
    "    roi_perc = r[\"new\"]\n",
    "\n",
    "def set_p_s(p):\n",
    "    global peaks_threshold\n",
    "    peaks_threshold = p[\"new\"]\n",
    "    \n",
    "def set_t_s(t):\n",
    "    global threshold_deviation\n",
    "    threshold_deviation = t[\"new\"]  \n",
    "\n",
    "def set_k_s(k):\n",
    "    global kp\n",
    "    kp = k[\"new\"]      \n",
    "\n",
    "def set_s_s(s):\n",
    "    global speed\n",
    "    speed = s[\"new\"] \n",
    "\n",
    "def set_o_s(o):\n",
    "    global terminate\n",
    "    terminate = o[\"new\"] \n",
    "\n",
    "\n",
    "r_s = widgets.FloatSlider(description=\"ROI line\", value=0.8, min=0.0, max=1.0)\n",
    "p_s = widgets.FloatSlider(description=\"Peak threshold\", value=0.9, min=0.0, max=1.0)\n",
    "t_s = widgets.FloatSlider(description=\"Threshold deviation\", value=0.15, min=0.0, max=1.0)\n",
    "k_s = widgets.IntSlider(description=\"Kp\", value=2500, min=1000, max=4000, step = 50)\n",
    "s_s = widgets.IntSlider(description=\"Speed\", value=1200000, min=1000000, max=2000000, step=100000)\n",
    "o_s = widgets.Checkbox(description=\"Terminate\", value=False, disabled=False)\n",
    "\n",
    "r_s.observe(set_r_s, \"value\")\n",
    "p_s.observe(set_p_s, \"value\")\n",
    "t_s.observe(set_t_s, \"value\")\n",
    "k_s.observe(set_k_s, \"value\")\n",
    "s_s.observe(set_s_s, \"value\")\n",
    "o_s.observe(set_o_s, \"value\")\n",
    "display(r_s, p_s, t_s, k_s, s_s, o_s)"
   ]
  },
  {
   "cell_type": "code",
   "execution_count": 4,
   "metadata": {},
   "outputs": [],
   "source": [
    "# kp should be around 2500.\n",
    "# ki\n",
    "# get the error. Error is peak position - middle.\n",
    "# servo angle is 1.5 million + kp*error\n",
    "def t_func():\n",
    "    global rot\n",
    "    global roi_perc\n",
    "    global peaks_threshold\n",
    "    global threshold_deviation\n",
    "    global kp\n",
    "    global terminate\n",
    "    global speed\n",
    "    \n",
    "    rawCapture = PiYUVArray(camera)\n",
    "    stream = camera.capture_continuous(rawCapture, format=\"yuv\", use_video_port=True)\n",
    "    b, a = butter(3, 0.007)\n",
    "    try:\n",
    "        for frame in stream:\n",
    "            I = frame.array[:, :, 0]\n",
    "            rawCapture.truncate(0)\n",
    "            \n",
    "            mid_horizontal = int(I.shape[0]*0.4)\n",
    "            mid_vertical = int(I.shape[1]/2)\n",
    "            mid_horizontal1 =int(I.shape[0]*(0.5))\n",
    "            mid_horizontal2 =int(I.shape[0]*(0.9))\n",
    "            L = I[mid_horizontal, :]\n",
    "            L1=I[mid_horizontal1, :]\n",
    "            L2=I[mid_horizontal2, :]\n",
    "            Lf = filtfilt(b, a, L)\n",
    "            Lf1= filtfilt(b, a, L1)\n",
    "            Lf2=filtfilt(b,a,L2)\n",
    "            print(Lf)\n",
    "            print(Lf1)\n",
    "            print(Lf2)\n",
    "\n",
    "            # normalize LF\n",
    "            #max_Lf = max(max(Lf),max(Lf1),max(Lf2))\n",
    "            #min_Lf = min(min(Lf),min(Lf1),min(Lf2))\n",
    "            max_Lf=max(Lf)\n",
    "            min_Lf=min(Lf)\n",
    "            max_Lf1=max(Lf1)\n",
    "            min_Lf1=min(Lf1)\n",
    "            max_Lf2=max(Lf2)\n",
    "            min_Lf2=min(Lf2)\n",
    "            Lf = [(val - min_Lf)/(max_Lf - min_Lf) for val in Lf]\n",
    "            Lf1 = [(val - min_Lf)/(max_Lf1 - min_Lf1) for val in Lf1]\n",
    "            Lf2 = [(val - min_Lf)/(max_Lf2 - min_Lf2) for val in Lf2]\n",
    "            print(Lf)\n",
    "            print(Lf1)\n",
    "            print(Lf2)\n",
    "            p = find_peaks(Lf, peaks_threshold)\n",
    "            p1 = find_peaks(Lf1, peaks_threshold)\n",
    "            p2 = find_peaks(Lf2, peaks_threshold)\n",
    "            #print(p)\n",
    "            #print(p1)\n",
    "            #print(p2)\n",
    "            closest_peak_at = -1\n",
    "            distance_peak = 1000000\n",
    "            closest_peak_at1 = -1\n",
    "            distance_peak1 = 1000000\n",
    "            closest_peak_at2 = -1\n",
    "            distance_peak2 = 1000000\n",
    "            for peak in p[0]:\n",
    "                if abs(mid_vertical - peak) < distance_peak:\n",
    "                    closest_peak_at = peak\n",
    "                    distance_peak = abs(mid_vertical - peak)\n",
    "            for peak in p1[0]:\n",
    "                if abs(mid_vertical1 - peak) < distance_peak1:\n",
    "                    closest_peak_at1 = peak\n",
    "                    distance_peak1 = abs(mid_vertical - peak)\n",
    "                                \n",
    "            for peak in p2[0]:\n",
    "                if abs(mid_vertical - peak) < distance_peak2:\n",
    "                    closest_peak_at2 = peak\n",
    "                    distance_peak2 = abs(mid_vertical - peak)\n",
    "            \n",
    "            deviation=((mid_vertical - closest_peak_at)*1.0)/mid_vertical\n",
    "            print(deviation)\n",
    "            deviation1=((mid_vertical - closest_peak_at1)*1.0)/mid_vertical\n",
    "            print(deviation)\n",
    "            deviation2=((mid_vertical - closest_peak_at2)*1.0)/mid_vertical\n",
    "            print(deviation)\n",
    "#             deviation = ((mid_vertical - closest_peak_at)*1.0)/mid_vertical\n",
    "\n",
    "#             if deviation < -1*threshold_deviation:\n",
    "#                 move = \"right\"\n",
    "#             elif -1*threshold_deviation <= deviation <= threshold_deviation:\n",
    "#                 move = \"straight\"\n",
    "#             else:\n",
    "#                 move = \"left\"\n",
    "            error = mid_horizontal - closest_peak_at\n",
    "            error1 = mid_horizontal1 - closest_peak_at1\n",
    "            error2 = mid_horizontal2 - closest_peak_at2\n",
    "            if(\n",
    "                (-1*threshold_deviation <= deviation <= threshold_deviation) and \n",
    "                (-1*threshold_deviation <= deviation1 <= threshold_deviation) and\n",
    "                (-1*threshold_deviation <= deviation2 <= threshold_deviation)\n",
    "            ):\n",
    "            \n",
    "            \n",
    "                new_angle = zeroRot + kp*error\n",
    "                new_angle = max(zeroRot - maxRot, new_angle)\n",
    "                new_angle = min(zeroRot + maxRot, new_angle)\n",
    "                rot = new_angle\n",
    "#             if move == 'left':\n",
    "#                 rot = min(zeroRot + maxRot, rot+0.10*rot)\n",
    "#             elif move == 'right':\n",
    "#                 rot = max(zeroRot -maxRot, rot-0.10*rot)\n",
    "#             else:\n",
    "#                 rot = zeroRot\n",
    "\n",
    "#             print(speed, roi_perc, peaks_threshold, threshold_deviation)\n",
    "                pwm0.duty_cycle = speed*1.15\n",
    "                pwm1.duty_cycle = int(rot)\n",
    "            else:\n",
    "                new_angle = zeroRot + kp*error\n",
    "                new_angle = max(zeroRot - maxRot, new_angle)\n",
    "                new_angle = min(zeroRot + maxRot, new_angle)\n",
    "                rot = new_angle\n",
    "                pwm0.duty_cycle = speed\n",
    "                pwm1.duty_cycle = int(rot)\n",
    "            if terminate:\n",
    "                print(\"YAY! TERMINATING !!!!\")\n",
    "                pwm0.duty_cycle = minSpeed\n",
    "                pwm1.duty_cycle = zeroRot\n",
    "                stream.close()\n",
    "                rawCapture.close()\n",
    "                camera.close()\n",
    "                break\n",
    "    except:\n",
    "        pwm0.duty_cycle = minSpeed\n",
    "        pwm1.duty_cycle = zeroRot\n",
    "        stream.close()\n",
    "        rawCapture.close()\n",
    "        camera.close()"
   ]
  },
  {
   "cell_type": "code",
   "execution_count": 5,
   "metadata": {},
   "outputs": [
    {
     "name": "stderr",
     "output_type": "stream",
     "text": [
      "/home/pi/.virtualenvs/raceon/lib/python3.5/site-packages/picamera/encoders.py:544: PiCameraResolutionRounded: frame size rounded up from 720x480 to 736x480\n",
      "  width, height, fwidth, fheight)))\n"
     ]
    }
   ],
   "source": [
    "camera = PiCamera()\n",
    "# camera.sensor_mode = 7\n",
    "# # camera.resolution = res\n",
    "# time.sleep(2)\n",
    "# camera.framerate = 120\n",
    "# camera.shutter_speed = camera.exposure_speed\n",
    "# camera.exposure_mode = 'off'\n",
    "# g = camera.awb_gains\n",
    "# camera.awb_mode = 'off'\n",
    "# camera.awb_gains = g\n",
    "t = threading.Thread(target = t_func)\n",
    "t.start()"
   ]
  },
  {
   "cell_type": "code",
   "execution_count": 6,
   "metadata": {},
   "outputs": [
    {
     "ename": "PiCameraValueError",
     "evalue": "Incorrect buffer length for resolution 720x480",
     "output_type": "error",
     "traceback": [
      "\u001b[0;31m---------------------------------------------------------------------------\u001b[0m",
      "\u001b[0;31mPiCameraValueError\u001b[0m                        Traceback (most recent call last)",
      "\u001b[0;32m<ipython-input-6-2935dfd9e3ee>\u001b[0m in \u001b[0;36m<module>\u001b[0;34m\u001b[0m\n\u001b[0;32m----> 1\u001b[0;31m \u001b[0mcamera\u001b[0m\u001b[0;34m.\u001b[0m\u001b[0mclose\u001b[0m\u001b[0;34m(\u001b[0m\u001b[0;34m)\u001b[0m\u001b[0;34m\u001b[0m\u001b[0m\n\u001b[0m",
      "\u001b[0;32m~/.virtualenvs/raceon/lib/python3.5/site-packages/picamera/camera.py\u001b[0m in \u001b[0;36mclose\u001b[0;34m(self)\u001b[0m\n\u001b[1;32m    735\u001b[0m         \"\"\"\n\u001b[1;32m    736\u001b[0m         \u001b[0;32mfor\u001b[0m \u001b[0mport\u001b[0m \u001b[0;32min\u001b[0m \u001b[0mlist\u001b[0m\u001b[0;34m(\u001b[0m\u001b[0mself\u001b[0m\u001b[0;34m.\u001b[0m\u001b[0m_encoders\u001b[0m\u001b[0;34m)\u001b[0m\u001b[0;34m:\u001b[0m\u001b[0;34m\u001b[0m\u001b[0m\n\u001b[0;32m--> 737\u001b[0;31m             \u001b[0mself\u001b[0m\u001b[0;34m.\u001b[0m\u001b[0mstop_recording\u001b[0m\u001b[0;34m(\u001b[0m\u001b[0msplitter_port\u001b[0m\u001b[0;34m=\u001b[0m\u001b[0mport\u001b[0m\u001b[0;34m)\u001b[0m\u001b[0;34m\u001b[0m\u001b[0m\n\u001b[0m\u001b[1;32m    738\u001b[0m         \u001b[0;32massert\u001b[0m \u001b[0;32mnot\u001b[0m \u001b[0mself\u001b[0m\u001b[0;34m.\u001b[0m\u001b[0mrecording\u001b[0m\u001b[0;34m\u001b[0m\u001b[0m\n\u001b[1;32m    739\u001b[0m         \u001b[0;32mfor\u001b[0m \u001b[0moverlay\u001b[0m \u001b[0;32min\u001b[0m \u001b[0mlist\u001b[0m\u001b[0;34m(\u001b[0m\u001b[0mself\u001b[0m\u001b[0;34m.\u001b[0m\u001b[0m_overlays\u001b[0m\u001b[0;34m)\u001b[0m\u001b[0;34m:\u001b[0m\u001b[0;34m\u001b[0m\u001b[0m\n",
      "\u001b[0;32m~/.virtualenvs/raceon/lib/python3.5/site-packages/picamera/camera.py\u001b[0m in \u001b[0;36mstop_recording\u001b[0;34m(self, splitter_port)\u001b[0m\n\u001b[1;32m   1196\u001b[0m                 \u001b[0mself\u001b[0m\u001b[0;34m.\u001b[0m\u001b[0mwait_recording\u001b[0m\u001b[0;34m(\u001b[0m\u001b[0;36m0\u001b[0m\u001b[0;34m,\u001b[0m \u001b[0msplitter_port\u001b[0m\u001b[0;34m)\u001b[0m\u001b[0;34m\u001b[0m\u001b[0m\n\u001b[1;32m   1197\u001b[0m             \u001b[0;32mfinally\u001b[0m\u001b[0;34m:\u001b[0m\u001b[0;34m\u001b[0m\u001b[0m\n\u001b[0;32m-> 1198\u001b[0;31m                 \u001b[0mencoder\u001b[0m\u001b[0;34m.\u001b[0m\u001b[0mclose\u001b[0m\u001b[0;34m(\u001b[0m\u001b[0;34m)\u001b[0m\u001b[0;34m\u001b[0m\u001b[0m\n\u001b[0m\u001b[1;32m   1199\u001b[0m                 \u001b[0;32mwith\u001b[0m \u001b[0mself\u001b[0m\u001b[0;34m.\u001b[0m\u001b[0m_encoders_lock\u001b[0m\u001b[0;34m:\u001b[0m\u001b[0;34m\u001b[0m\u001b[0m\n\u001b[1;32m   1200\u001b[0m                     \u001b[0;32mdel\u001b[0m \u001b[0mself\u001b[0m\u001b[0;34m.\u001b[0m\u001b[0m_encoders\u001b[0m\u001b[0;34m[\u001b[0m\u001b[0msplitter_port\u001b[0m\u001b[0;34m]\u001b[0m\u001b[0;34m\u001b[0m\u001b[0m\n",
      "\u001b[0;32m~/.virtualenvs/raceon/lib/python3.5/site-packages/picamera/encoders.py\u001b[0m in \u001b[0;36mclose\u001b[0;34m(self)\u001b[0m\n\u001b[1;32m    429\u001b[0m         \u001b[0mattributes\u001b[0m\u001b[0;34m.\u001b[0m\u001b[0;34m\u001b[0m\u001b[0m\n\u001b[1;32m    430\u001b[0m         \"\"\"\n\u001b[0;32m--> 431\u001b[0;31m         \u001b[0mself\u001b[0m\u001b[0;34m.\u001b[0m\u001b[0mstop\u001b[0m\u001b[0;34m(\u001b[0m\u001b[0;34m)\u001b[0m\u001b[0;34m\u001b[0m\u001b[0m\n\u001b[0m\u001b[1;32m    432\u001b[0m         \u001b[0;32mif\u001b[0m \u001b[0mself\u001b[0m\u001b[0;34m.\u001b[0m\u001b[0mencoder\u001b[0m\u001b[0;34m:\u001b[0m\u001b[0;34m\u001b[0m\u001b[0m\n\u001b[1;32m    433\u001b[0m             \u001b[0mself\u001b[0m\u001b[0;34m.\u001b[0m\u001b[0mencoder\u001b[0m\u001b[0;34m.\u001b[0m\u001b[0mdisconnect\u001b[0m\u001b[0;34m(\u001b[0m\u001b[0;34m)\u001b[0m\u001b[0;34m\u001b[0m\u001b[0m\n",
      "\u001b[0;32m~/.virtualenvs/raceon/lib/python3.5/site-packages/picamera/encoders.py\u001b[0m in \u001b[0;36mstop\u001b[0;34m(self)\u001b[0m\n\u001b[1;32m    417\u001b[0m             \u001b[0mself\u001b[0m\u001b[0;34m.\u001b[0m\u001b[0moutput_port\u001b[0m\u001b[0;34m.\u001b[0m\u001b[0mdisable\u001b[0m\u001b[0;34m(\u001b[0m\u001b[0;34m)\u001b[0m\u001b[0;34m\u001b[0m\u001b[0m\n\u001b[1;32m    418\u001b[0m         \u001b[0mself\u001b[0m\u001b[0;34m.\u001b[0m\u001b[0mevent\u001b[0m\u001b[0;34m.\u001b[0m\u001b[0mset\u001b[0m\u001b[0;34m(\u001b[0m\u001b[0;34m)\u001b[0m\u001b[0;34m\u001b[0m\u001b[0m\n\u001b[0;32m--> 419\u001b[0;31m         \u001b[0mself\u001b[0m\u001b[0;34m.\u001b[0m\u001b[0m_close_output\u001b[0m\u001b[0;34m(\u001b[0m\u001b[0;34m)\u001b[0m\u001b[0;34m\u001b[0m\u001b[0m\n\u001b[0m\u001b[1;32m    420\u001b[0m \u001b[0;34m\u001b[0m\u001b[0m\n\u001b[1;32m    421\u001b[0m     \u001b[0;32mdef\u001b[0m \u001b[0mclose\u001b[0m\u001b[0;34m(\u001b[0m\u001b[0mself\u001b[0m\u001b[0;34m)\u001b[0m\u001b[0;34m:\u001b[0m\u001b[0;34m\u001b[0m\u001b[0m\n",
      "\u001b[0;32m~/.virtualenvs/raceon/lib/python3.5/site-packages/picamera/encoders.py\u001b[0m in \u001b[0;36m_close_output\u001b[0;34m(self, key)\u001b[0m\n\u001b[1;32m    347\u001b[0m                 \u001b[0;32mpass\u001b[0m\u001b[0;34m\u001b[0m\u001b[0m\n\u001b[1;32m    348\u001b[0m             \u001b[0;32melse\u001b[0m\u001b[0;34m:\u001b[0m\u001b[0;34m\u001b[0m\u001b[0m\n\u001b[0;32m--> 349\u001b[0;31m                 \u001b[0mmo\u001b[0m\u001b[0;34m.\u001b[0m\u001b[0mclose_stream\u001b[0m\u001b[0;34m(\u001b[0m\u001b[0moutput\u001b[0m\u001b[0;34m,\u001b[0m \u001b[0mopened\u001b[0m\u001b[0;34m)\u001b[0m\u001b[0;34m\u001b[0m\u001b[0m\n\u001b[0m\u001b[1;32m    350\u001b[0m \u001b[0;34m\u001b[0m\u001b[0m\n\u001b[1;32m    351\u001b[0m     \u001b[0;34m@\u001b[0m\u001b[0mproperty\u001b[0m\u001b[0;34m\u001b[0m\u001b[0m\n",
      "\u001b[0;32m~/.virtualenvs/raceon/lib/python3.5/site-packages/picamera/mmalobj.py\u001b[0m in \u001b[0;36mclose_stream\u001b[0;34m(stream, opened)\u001b[0m\n\u001b[1;32m    369\u001b[0m     \u001b[0;32melse\u001b[0m\u001b[0;34m:\u001b[0m\u001b[0;34m\u001b[0m\u001b[0m\n\u001b[1;32m    370\u001b[0m         \u001b[0;32mtry\u001b[0m\u001b[0;34m:\u001b[0m\u001b[0;34m\u001b[0m\u001b[0m\n\u001b[0;32m--> 371\u001b[0;31m             \u001b[0mstream\u001b[0m\u001b[0;34m.\u001b[0m\u001b[0mflush\u001b[0m\u001b[0;34m(\u001b[0m\u001b[0;34m)\u001b[0m\u001b[0;34m\u001b[0m\u001b[0m\n\u001b[0m\u001b[1;32m    372\u001b[0m         \u001b[0;32mexcept\u001b[0m \u001b[0mAttributeError\u001b[0m\u001b[0;34m:\u001b[0m\u001b[0;34m\u001b[0m\u001b[0m\n\u001b[1;32m    373\u001b[0m             \u001b[0;32mpass\u001b[0m\u001b[0;34m\u001b[0m\u001b[0m\n",
      "\u001b[0;32m~/.virtualenvs/raceon/lib/python3.5/site-packages/picamera/array.py\u001b[0m in \u001b[0;36mflush\u001b[0;34m(self)\u001b[0m\n\u001b[1;32m    294\u001b[0m     \u001b[0;32mdef\u001b[0m \u001b[0mflush\u001b[0m\u001b[0;34m(\u001b[0m\u001b[0mself\u001b[0m\u001b[0;34m)\u001b[0m\u001b[0;34m:\u001b[0m\u001b[0;34m\u001b[0m\u001b[0m\n\u001b[1;32m    295\u001b[0m         \u001b[0msuper\u001b[0m\u001b[0;34m(\u001b[0m\u001b[0mPiYUVArray\u001b[0m\u001b[0;34m,\u001b[0m \u001b[0mself\u001b[0m\u001b[0;34m)\u001b[0m\u001b[0;34m.\u001b[0m\u001b[0mflush\u001b[0m\u001b[0;34m(\u001b[0m\u001b[0;34m)\u001b[0m\u001b[0;34m\u001b[0m\u001b[0m\n\u001b[0;32m--> 296\u001b[0;31m         \u001b[0mself\u001b[0m\u001b[0;34m.\u001b[0m\u001b[0marray\u001b[0m \u001b[0;34m=\u001b[0m \u001b[0mbytes_to_yuv\u001b[0m\u001b[0;34m(\u001b[0m\u001b[0mself\u001b[0m\u001b[0;34m.\u001b[0m\u001b[0mgetvalue\u001b[0m\u001b[0;34m(\u001b[0m\u001b[0;34m)\u001b[0m\u001b[0;34m,\u001b[0m \u001b[0mself\u001b[0m\u001b[0;34m.\u001b[0m\u001b[0msize\u001b[0m \u001b[0;32mor\u001b[0m \u001b[0mself\u001b[0m\u001b[0;34m.\u001b[0m\u001b[0mcamera\u001b[0m\u001b[0;34m.\u001b[0m\u001b[0mresolution\u001b[0m\u001b[0;34m)\u001b[0m\u001b[0;34m\u001b[0m\u001b[0m\n\u001b[0m\u001b[1;32m    297\u001b[0m         \u001b[0mself\u001b[0m\u001b[0;34m.\u001b[0m\u001b[0m_rgb\u001b[0m \u001b[0;34m=\u001b[0m \u001b[0;32mNone\u001b[0m\u001b[0;34m\u001b[0m\u001b[0m\n\u001b[1;32m    298\u001b[0m \u001b[0;34m\u001b[0m\u001b[0m\n",
      "\u001b[0;32m~/.virtualenvs/raceon/lib/python3.5/site-packages/picamera/array.py\u001b[0m in \u001b[0;36mbytes_to_yuv\u001b[0;34m(data, resolution)\u001b[0m\n\u001b[1;32m     91\u001b[0m     \u001b[0;32mif\u001b[0m \u001b[0mlen\u001b[0m\u001b[0;34m(\u001b[0m\u001b[0mdata\u001b[0m\u001b[0;34m)\u001b[0m \u001b[0;34m!=\u001b[0m \u001b[0;34m(\u001b[0m\u001b[0my_len\u001b[0m \u001b[0;34m+\u001b[0m \u001b[0;36m2\u001b[0m \u001b[0;34m*\u001b[0m \u001b[0muv_len\u001b[0m\u001b[0;34m)\u001b[0m\u001b[0;34m:\u001b[0m\u001b[0;34m\u001b[0m\u001b[0m\n\u001b[1;32m     92\u001b[0m         raise PiCameraValueError(\n\u001b[0;32m---> 93\u001b[0;31m             'Incorrect buffer length for resolution %dx%d' % (width, height))\n\u001b[0m\u001b[1;32m     94\u001b[0m     \u001b[0;31m# Separate out the Y, U, and V values from the array\u001b[0m\u001b[0;34m\u001b[0m\u001b[0;34m\u001b[0m\u001b[0m\n\u001b[1;32m     95\u001b[0m     \u001b[0ma\u001b[0m \u001b[0;34m=\u001b[0m \u001b[0mnp\u001b[0m\u001b[0;34m.\u001b[0m\u001b[0mfrombuffer\u001b[0m\u001b[0;34m(\u001b[0m\u001b[0mdata\u001b[0m\u001b[0;34m,\u001b[0m \u001b[0mdtype\u001b[0m\u001b[0;34m=\u001b[0m\u001b[0mnp\u001b[0m\u001b[0;34m.\u001b[0m\u001b[0muint8\u001b[0m\u001b[0;34m)\u001b[0m\u001b[0;34m\u001b[0m\u001b[0m\n",
      "\u001b[0;31mPiCameraValueError\u001b[0m: Incorrect buffer length for resolution 720x480"
     ]
    }
   ],
   "source": []
  }
 ],
 "metadata": {
  "kernelspec": {
   "display_name": "Python 3",
   "language": "python",
   "name": "python3"
  },
  "language_info": {
   "codemirror_mode": {
    "name": "ipython",
    "version": 3
   },
   "file_extension": ".py",
   "mimetype": "text/x-python",
   "name": "python",
   "nbconvert_exporter": "python",
   "pygments_lexer": "ipython3",
   "version": "3.5.3"
  }
 },
 "nbformat": 4,
 "nbformat_minor": 2
}
