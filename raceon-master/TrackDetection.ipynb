{
 "cells": [
  {
   "cell_type": "code",
   "execution_count": 1,
   "metadata": {},
   "outputs": [],
   "source": [
    "import numpy as np\n",
    "import skimage as ski\n",
    "from scipy.signal import find_peaks, butter, filtfilt\n",
    "import matplotlib.pyplot as plt"
   ]
  },
  {
   "cell_type": "code",
   "execution_count": 4,
   "metadata": {},
   "outputs": [
    {
     "ename": "AttributeError",
     "evalue": "'generator' object has no attribute 'array'",
     "output_type": "error",
     "traceback": [
      "\u001b[0;31m---------------------------------------------------------------------------\u001b[0m",
      "\u001b[0;31mAttributeError\u001b[0m                            Traceback (most recent call last)",
      "\u001b[0;32m<ipython-input-4-21706ee3cd6b>\u001b[0m in \u001b[0;36m<module>\u001b[0;34m\u001b[0m\n\u001b[1;32m     20\u001b[0m \u001b[0;34m\u001b[0m\u001b[0m\n\u001b[1;32m     21\u001b[0m \u001b[0;31m#for f in stream:\u001b[0m\u001b[0;34m\u001b[0m\u001b[0;34m\u001b[0m\u001b[0m\n\u001b[0;32m---> 22\u001b[0;31m \u001b[0mI\u001b[0m \u001b[0;34m=\u001b[0m\u001b[0mstream\u001b[0m\u001b[0;34m.\u001b[0m\u001b[0marray\u001b[0m\u001b[0;34m[\u001b[0m\u001b[0;34m:\u001b[0m\u001b[0;34m,\u001b[0m \u001b[0;34m:\u001b[0m\u001b[0;34m,\u001b[0m \u001b[0;36m0\u001b[0m\u001b[0;34m]\u001b[0m\u001b[0;34m\u001b[0m\u001b[0m\n\u001b[0m\u001b[1;32m     23\u001b[0m \u001b[0mrawCapture\u001b[0m\u001b[0;34m.\u001b[0m\u001b[0mtruncate\u001b[0m\u001b[0;34m(\u001b[0m\u001b[0;36m0\u001b[0m\u001b[0;34m)\u001b[0m\u001b[0;34m\u001b[0m\u001b[0m\n\u001b[1;32m     24\u001b[0m \u001b[0mprint\u001b[0m\u001b[0;34m(\u001b[0m\u001b[0;34m\"showing image\"\u001b[0m\u001b[0;34m)\u001b[0m\u001b[0;34m\u001b[0m\u001b[0m\n",
      "\u001b[0;31mAttributeError\u001b[0m: 'generator' object has no attribute 'array'"
     ]
    }
   ],
   "source": [
    "from picamera.array import PiYUVArray, PiRGBArray\n",
    "from picamera import PiCamera\n",
    "from scipy.signal import find_peaks, butter, filtfilt\n",
    "import time\n",
    "\n",
    "res = (1024, 768)\n",
    "camera = PiCamera()\n",
    "camera.sensor_mode = 7\n",
    "camera.resolution = res\n",
    "camera.framerate = 120\n",
    "# b, a = butter(3, 0.02)\n",
    "\n",
    "rawCapture = PiYUVArray(camera, size=res)\n",
    "stream = camera.capture_continuous(rawCapture, format=\"yuv\", use_video_port=True)\n",
    "\n",
    "N = 300\n",
    "k = 0\n",
    "t = time.time()\n",
    "mid = 500\n",
    "\n",
    "for f in stream:\n",
    "    I = f.array[:, :, 0]\n",
    "    rawCapture.truncate(0)\n",
    "    print(\"showing image\")\n",
    "    plt.imshow(I)\n",
    "    time.sleep(5)\n"
   ]
  },
  {
   "cell_type": "code",
   "execution_count": null,
   "metadata": {},
   "outputs": [],
   "source": [
    "stream.close()\n",
    "rawCapture.close()\n",
    "camera.close()"
   ]
  },
  {
   "cell_type": "code",
   "execution_count": null,
   "metadata": {},
   "outputs": [],
   "source": [
    "# Load the sample image\n",
    "\n",
    "# I = ski.io.imread(\"track.jpg\")"
   ]
  },
  {
   "cell_type": "code",
   "execution_count": null,
   "metadata": {},
   "outputs": [],
   "source": [
    "plt.imshow(I)"
   ]
  },
  {
   "cell_type": "code",
   "execution_count": null,
   "metadata": {},
   "outputs": [],
   "source": [
    "# Print the image dimensions in pixels\n",
    "\n",
    "I.shape"
   ]
  },
  {
   "cell_type": "code",
   "execution_count": null,
   "metadata": {},
   "outputs": [],
   "source": [
    "# Conversion to gray\n",
    "Ibw = ski.color.rgb2gray(I)"
   ]
  },
  {
   "cell_type": "code",
   "execution_count": null,
   "metadata": {},
   "outputs": [],
   "source": [
    "Ibw.shape"
   ]
  },
  {
   "cell_type": "code",
   "execution_count": null,
   "metadata": {},
   "outputs": [],
   "source": [
    "# Since the image has a black line on a white background \n",
    "# we invert the image by substracting it from its maximum value.\n",
    "# We also select a smaller region of interest\n",
    "\n",
    "ROI = Ibw # Ibw.max() - Ibw[1350:1400, 1000:3000]"
   ]
  },
  {
   "cell_type": "code",
   "execution_count": null,
   "metadata": {},
   "outputs": [],
   "source": [
    "# Print the minimum and the maximum values\n",
    "\n",
    "ROI.min(), ROI.max()"
   ]
  },
  {
   "cell_type": "code",
   "execution_count": null,
   "metadata": {},
   "outputs": [],
   "source": [
    "# Select the 25th row in the image for line detection\n",
    "L = ROI[25]\n",
    "\n",
    "# Plot the intensities across this row\n",
    "plt.plot(L)"
   ]
  },
  {
   "cell_type": "code",
   "execution_count": null,
   "metadata": {},
   "outputs": [],
   "source": [
    "# Due to the noise in the image the algorithm finds many peaks heigher than 0.5\n",
    "find_peaks(L, height=0.5)"
   ]
  },
  {
   "cell_type": "code",
   "execution_count": null,
   "metadata": {},
   "outputs": [],
   "source": [
    "# To filter the noise in the image we use a 3rd order Butterworth filter\n",
    "\n",
    "# Wn = 0.02, the cut-off frequency, acceptable values are from 0 to 1\n",
    "b, a = butter(3, 0.02)"
   ]
  },
  {
   "cell_type": "code",
   "execution_count": null,
   "metadata": {},
   "outputs": [],
   "source": [
    "# Filter the selected row in the image using the above filter coefficients a, b\n",
    "Lf = filtfilt(b, a, L)"
   ]
  },
  {
   "cell_type": "code",
   "execution_count": null,
   "metadata": {},
   "outputs": [],
   "source": [
    "# Plot the pixel intensities along the selected row\n",
    "plt.plot(L, label=\"raw\")\n",
    "plt.plot(Lf, label=\"filtered\")\n",
    "\n",
    "plt.legend()"
   ]
  },
  {
   "cell_type": "code",
   "execution_count": null,
   "metadata": {},
   "outputs": [],
   "source": [
    "# Find the two peaks in the filtered data\n",
    "find_peaks(Lf, height=0.5)"
   ]
  },
  {
   "cell_type": "code",
   "execution_count": null,
   "metadata": {},
   "outputs": [],
   "source": [
    "%%timeit\n",
    "\n",
    "## Estimate the run time of the line detection algorithm\n",
    "\n",
    "# Select the 25th row in the image for line detection\n",
    "L = ROI[25]\n",
    "\n",
    "# To filter the noise in the image we use a 3rd order Butterworth filter\n",
    "b, a = butter(3, 0.02)\n",
    "\n",
    "# Smooth the transitions so we can detect the peaks \n",
    "Lf = filtfilt(b, a, L)\n",
    "\n",
    "# Find peaks which are higher than 0.5\n",
    "p = find_peaks(Lf, height=0.5)"
   ]
  },
  {
   "cell_type": "code",
   "execution_count": null,
   "metadata": {},
   "outputs": [],
   "source": []
  },
  {
   "cell_type": "code",
   "execution_count": null,
   "metadata": {},
   "outputs": [],
   "source": []
  }
 ],
 "metadata": {
  "kernelspec": {
   "display_name": "Python 3",
   "language": "python",
   "name": "python3"
  },
  "language_info": {
   "codemirror_mode": {
    "name": "ipython",
    "version": 3
   },
   "file_extension": ".py",
   "mimetype": "text/x-python",
   "name": "python",
   "nbconvert_exporter": "python",
   "pygments_lexer": "ipython3",
   "version": "3.5.3"
  }
 },
 "nbformat": 4,
 "nbformat_minor": 2
}
