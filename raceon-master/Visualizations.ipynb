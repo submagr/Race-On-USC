{
 "cells": [
  {
   "cell_type": "code",
   "execution_count": null,
   "metadata": {},
   "outputs": [],
   "source": [
    "import socket\n",
    "import time\n",
    "import picamera\n",
    "\n",
    "# Connect a client socket to my_server:8000 (change my_server to the\n",
    "# hostname of your server)\n",
    "client_socket = socket.socket()\n",
    "client_socket.connect(('192.168.1.15', 9000))\n",
    "\n",
    "# Make a file-like object out of the connection\n",
    "print(\"trying to connect\")\n",
    "connection = client_socket.makefile('wb')\n",
    "print(\"connection established\")\n",
    "try:\n",
    "    camera = picamera.PiCamera()\n",
    "    camera.resolution = (640, 480)\n",
    "    camera.framerate = 24\n",
    "    # Start a preview and let the camera warm up for 2 seconds\n",
    "    camera.start_preview()\n",
    "    time.sleep(2)\n",
    "    # Start recording, sending the output to the connection for 60\n",
    "    # seconds, then stop\n",
    "    camera.start_recording(connection, format='h264')\n",
    "    camera.wait_recording(60)\n",
    "    camera.stop_recording()\n",
    "finally:\n",
    "    connection.close()\n",
    "    client_socket.close()"
   ]
  },
  {
   "cell_type": "code",
   "execution_count": null,
   "metadata": {},
   "outputs": [],
   "source": []
  }
 ],
 "metadata": {
  "kernelspec": {
   "display_name": "Python 3",
   "language": "python",
   "name": "python3"
  }
 },
 "nbformat": 4,
 "nbformat_minor": 2
}
