{
 "cells": [
  {
   "cell_type": "code",
   "execution_count": null,
   "metadata": {},
   "outputs": [],
   "source": [
    "import io\n",
    "import socket\n",
    "import struct\n",
    "import time\n",
    "import picamera\n",
    "\n",
    "client_socket = socket.socket()\n",
    "client_socket.connect(('192.168.1.15', 8000))\n",
    "connection = client_socket.makefile('wb')\n",
    "try:\n",
    "    with picamera.PiCamera() as camera:\n",
    "        camera.resolution = (640, 480)\n",
    "        camera.framerate = 30\n",
    "        time.sleep(2)\n",
    "        start = time.time()\n",
    "        count = 0\n",
    "        stream = io.BytesIO()\n",
    "        # Use the video-port for captures...\n",
    "        for foo in camera.capture_continuous(stream, 'jpeg',\n",
    "                                             use_video_port=True):\n",
    "            connection.write(struct.pack('<L', stream.tell()))\n",
    "            connection.flush()\n",
    "            stream.seek(0)\n",
    "            connection.write(stream.read())\n",
    "            count += 1\n",
    "            if time.time() - start > 30:\n",
    "                break\n",
    "            stream.seek(0)\n",
    "            stream.truncate()\n",
    "    connection.write(struct.pack('<L', 0))\n",
    "finally:\n",
    "    connection.close()\n",
    "    client_socket.close()\n",
    "    finish = time.time()\n",
    "print('Sent %d images in %d seconds at %.2ffps' % (\n",
    "    count, finish-start, count / (finish-start)))"
   ]
  },
  {
   "cell_type": "code",
   "execution_count": null,
   "metadata": {},
   "outputs": [],
   "source": []
  },
  {
   "cell_type": "code",
   "execution_count": null,
   "metadata": {},
   "outputs": [],
   "source": []
  }
 ],
 "metadata": {
  "kernelspec": {
   "display_name": "Python 3",
   "language": "python",
   "name": "python3"
  },
  "language_info": {
   "codemirror_mode": {
    "name": "ipython",
    "version": 3
   },
   "file_extension": ".py",
   "mimetype": "text/x-python",
   "name": "python",
   "nbconvert_exporter": "python",
   "pygments_lexer": "ipython3",
   "version": "3.5.3"
  }
 },
 "nbformat": 4,
 "nbformat_minor": 2
}
