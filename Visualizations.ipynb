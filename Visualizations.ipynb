{
 "cells": [
  {
   "cell_type": "code",
   "execution_count": 1,
   "metadata": {},
   "outputs": [
    {
     "ename": "ConnectionRefusedError",
     "evalue": "[Errno 111] Connection refused",
     "output_type": "error",
     "traceback": [
      "\u001b[0;31m---------------------------------------------------------------------------\u001b[0m",
      "\u001b[0;31mConnectionRefusedError\u001b[0m                    Traceback (most recent call last)",
      "\u001b[0;32m<ipython-input-1-667e4f03cb43>\u001b[0m in \u001b[0;36m<module>\u001b[0;34m\u001b[0m\n\u001b[1;32m      6\u001b[0m \u001b[0;34m\u001b[0m\u001b[0m\n\u001b[1;32m      7\u001b[0m \u001b[0mclient_socket\u001b[0m \u001b[0;34m=\u001b[0m \u001b[0msocket\u001b[0m\u001b[0;34m.\u001b[0m\u001b[0msocket\u001b[0m\u001b[0;34m(\u001b[0m\u001b[0;34m)\u001b[0m\u001b[0;34m\u001b[0m\u001b[0m\n\u001b[0;32m----> 8\u001b[0;31m \u001b[0mclient_socket\u001b[0m\u001b[0;34m.\u001b[0m\u001b[0mconnect\u001b[0m\u001b[0;34m(\u001b[0m\u001b[0;34m(\u001b[0m\u001b[0;34m'192.168.1.15'\u001b[0m\u001b[0;34m,\u001b[0m \u001b[0;36m8000\u001b[0m\u001b[0;34m)\u001b[0m\u001b[0;34m)\u001b[0m\u001b[0;34m\u001b[0m\u001b[0m\n\u001b[0m\u001b[1;32m      9\u001b[0m \u001b[0mconnection\u001b[0m \u001b[0;34m=\u001b[0m \u001b[0mclient_socket\u001b[0m\u001b[0;34m.\u001b[0m\u001b[0mmakefile\u001b[0m\u001b[0;34m(\u001b[0m\u001b[0;34m'wb'\u001b[0m\u001b[0;34m)\u001b[0m\u001b[0;34m\u001b[0m\u001b[0m\n\u001b[1;32m     10\u001b[0m \u001b[0;32mtry\u001b[0m\u001b[0;34m:\u001b[0m\u001b[0;34m\u001b[0m\u001b[0m\n",
      "\u001b[0;31mConnectionRefusedError\u001b[0m: [Errno 111] Connection refused"
     ]
    }
   ],
   "source": [
    "import io\n",
    "import socket\n",
    "import struct\n",
    "import time\n",
    "import picamera\n",
    "\n",
    "client_socket = socket.socket()\n",
    "client_socket.connect(('192.168.1.15', 8000))\n",
    "connection = client_socket.makefile('wb')\n",
    "try:\n",
    "    with picamera.PiCamera() as camera:\n",
    "        camera.resolution = (640, 480)\n",
    "        camera.framerate = 30\n",
    "        time.sleep(2)\n",
    "        start = time.time()\n",
    "        count = 0\n",
    "        stream = io.BytesIO()\n",
    "        # Use the video-port for captures...\n",
    "        for foo in camera.capture_continuous(stream, 'jpeg',\n",
    "                                             use_video_port=True):\n",
    "            connection.write(struct.pack('<L', stream.tell()))\n",
    "            connection.flush()\n",
    "            stream.seek(0)\n",
    "            connection.write(stream.read())\n",
    "            count += 1\n",
    "            if time.time() - start > 30:\n",
    "                break\n",
    "            stream.seek(0)\n",
    "            stream.truncate()\n",
    "    connection.write(struct.pack('<L', 0))\n",
    "finally:\n",
    "    connection.close()\n",
    "    client_socket.close()\n",
    "    finish = time.time()\n",
    "print('Sent %d images in %d seconds at %.2ffps' % (\n",
    "    count, finish-start, count / (finish-start)))"
   ]
  },
  {
   "cell_type": "code",
   "execution_count": null,
   "metadata": {},
   "outputs": [],
   "source": []
  },
  {
   "cell_type": "code",
   "execution_count": null,
   "metadata": {},
   "outputs": [],
   "source": []
  }
 ],
 "metadata": {
  "kernelspec": {
   "display_name": "Python 3",
   "language": "python",
   "name": "python3"
  }
 },
 "nbformat": 4,
 "nbformat_minor": 2
}
