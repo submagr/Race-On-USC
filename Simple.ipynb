{
 "cells": [
  {
   "cell_type": "code",
   "execution_count": 1,
   "metadata": {},
   "outputs": [],
   "source": [
    "debug = False\n",
    "\n",
    "from picamera import PiCamera\n",
    "from picamera.array import PiRGBArray, PiYUVArray\n",
    "from scipy.signal import filtfilt, butter, find_peaks\n",
    "from pwm import PWM\n",
    "import sys\n",
    "from time import sleep\n",
    "import threading\n",
    "import ipywidgets as widgets"
   ]
  },
  {
   "cell_type": "code",
   "execution_count": 2,
   "metadata": {},
   "outputs": [
    {
     "name": "stdout",
     "output_type": "stream",
     "text": [
      "waiting for moter\n",
      "motor ready\n"
     ]
    }
   ],
   "source": [
    "minSpeed =  1000000 # 0 speed\n",
    "zeroRot  =  1000000\n",
    "maxRot   =   500000\n",
    "rot = zeroRot\n",
    "\n",
    "\n",
    "pwm0 = PWM(0)  # motor\n",
    "# pwm0.export()\n",
    "pwm0.period = 20000000\n",
    "pwm0.duty_cycle = minSpeed\n",
    "\n",
    "pwm1 = PWM(1)  # servo\n",
    "# pwm1.export() \n",
    "pwm1.period = 20000000\n",
    "pwm1.duty_cycle = zeroRot \n",
    "\n",
    "pwm0.enable = True\n",
    "pwm1.enable = True\n",
    "\n",
    "if not debug:\n",
    "    print(\"waiting for moter\")\n",
    "    sleep(3)\n",
    "    print(\"motor ready\")"
   ]
  },
  {
   "cell_type": "code",
   "execution_count": 3,
   "metadata": {},
   "outputs": [
    {
     "data": {
      "application/vnd.jupyter.widget-view+json": {
       "model_id": "f7fa73d41c794b4abd7ef6b762ff62e7",
       "version_major": 2,
       "version_minor": 0
      },
      "text/plain": [
       "FloatSlider(value=0.8, max=1.0)"
      ]
     },
     "metadata": {},
     "output_type": "display_data"
    },
    {
     "data": {
      "application/vnd.jupyter.widget-view+json": {
       "model_id": "9b2cf6c0b60040f697d618a62660fd80",
       "version_major": 2,
       "version_minor": 0
      },
      "text/plain": [
       "FloatSlider(value=0.9, max=1.0)"
      ]
     },
     "metadata": {},
     "output_type": "display_data"
    },
    {
     "data": {
      "application/vnd.jupyter.widget-view+json": {
       "model_id": "4c2e862946d643c2b81f65d08856303d",
       "version_major": 2,
       "version_minor": 0
      },
      "text/plain": [
       "FloatSlider(value=0.15, max=1.0)"
      ]
     },
     "metadata": {},
     "output_type": "display_data"
    },
    {
     "data": {
      "application/vnd.jupyter.widget-view+json": {
       "model_id": "346b5082401e4a46a7f151a04c02560e",
       "version_major": 2,
       "version_minor": 0
      },
      "text/plain": [
       "IntSlider(value=1200000, max=2000000, min=1000000, step=100000)"
      ]
     },
     "metadata": {},
     "output_type": "display_data"
    }
   ],
   "source": [
    "roi_perc = 0.8\n",
    "peaks_threshold = 0.9\n",
    "threshold_deviation = 0.15\n",
    "speed = 1200000\n",
    "\n",
    "# if debug:\n",
    "#     speed = minSpeed\n",
    "\n",
    "def set_r_s(r):\n",
    "    global roi_perc\n",
    "    roi_perc = r[\"new\"]\n",
    "\n",
    "def set_p_s(p):\n",
    "    global peaks_threshold\n",
    "    peaks_threshold = p[\"new\"]\n",
    "    \n",
    "def set_t_s(t):\n",
    "    global threshold_deviation\n",
    "    threshold_deviation = t[\"new\"]  \n",
    "    \n",
    "def set_s_s(s):\n",
    "    print(\"called\")\n",
    "    global speed\n",
    "    speed = s[\"new\"] \n",
    "    \n",
    "\n",
    "r_s = widgets.FloatSlider(value=0.8, min=0.0, max=1.0)\n",
    "p_s = widgets.FloatSlider(value=0.9, min=0.0, max=1.0)\n",
    "t_s = widgets.FloatSlider(value=0.15, min=0.0, max=1.0)\n",
    "s_s = widgets.IntSlider(value=1200000, min=1000000, max=2000000, step=100000)\n",
    "\n",
    "r_s.observe(set_r_s, \"value\")\n",
    "p_s.observe(set_p_s, \"value\")\n",
    "t_s.observe(set_t_s, \"value\")\n",
    "s_s.observe(set_s_s, \"value\")\n",
    "display(r_s, p_s, t_s, s_s)"
   ]
  },
  {
   "cell_type": "code",
   "execution_count": 4,
   "metadata": {
    "scrolled": true
   },
   "outputs": [
    {
     "name": "stdout",
     "output_type": "stream",
     "text": [
      "1200000\n"
     ]
    }
   ],
   "source": [
    "camera = PiCamera()\n",
    "print(speed)"
   ]
  },
  {
   "cell_type": "code",
   "execution_count": 5,
   "metadata": {},
   "outputs": [],
   "source": [
    "def t_func():\n",
    "    global rot\n",
    "    \n",
    "    global roi_perc\n",
    "    global peaks_threshold\n",
    "    global threshold_deviation\n",
    "    global speed\n",
    "    \n",
    "    try:\n",
    "        rawCapture = PiYUVArray(camera)\n",
    "        stream = camera.capture_continuous(rawCapture, format=\"yuv\", use_video_port=True)\n",
    "        for frame in stream:\n",
    "            b, a = butter(3, 0.007)\n",
    "            I = frame.array[:, :, 0]\n",
    "            rawCapture.truncate(0)\n",
    "\n",
    "            mid_horizontal = int(I.shape[0]*roi_perc)\n",
    "            mid_vertical = int(I.shape[1]/2)\n",
    "\n",
    "            L = I[mid_horizontal, :]\n",
    "            Lf = filtfilt(b, a, L)\n",
    "\n",
    "            # normalize LF\n",
    "            max_Lf = max(Lf)\n",
    "            min_Lf = min(Lf)\n",
    "            Lf = [val/(max_Lf - min_Lf) for val in Lf]\n",
    "\n",
    "            p = find_peaks(Lf, peaks_threshold)\n",
    "\n",
    "            closest_peak_at = -1\n",
    "            distance_peak = 1000000\n",
    "            for peak in p[0]:\n",
    "                if abs(mid_vertical - peak) < distance_peak:\n",
    "                    closest_peak_at = peak\n",
    "                    distance_peak = abs(mid_vertical - peak)\n",
    "            deviation = ((mid_vertical - closest_peak_at)*1.0)/mid_vertical\n",
    "\n",
    "            if deviation < -1*threshold_deviation:\n",
    "                print(\"go right\")\n",
    "                move = \"right\"\n",
    "            elif -1*threshold_deviation <= deviation <= threshold_deviation:\n",
    "                print(\"go straight\")\n",
    "                move = \"straight\"\n",
    "            else:\n",
    "                print(\"go left\")\n",
    "                move = \"left\"\n",
    "\n",
    "            if debug:\n",
    "                print(\"\"\"\n",
    "                    peaks: {0}\n",
    "                    closest_peak_at: {1}\n",
    "                    deviation: {2}\n",
    "                    threshold_deviation: {3}\n",
    "                    result:{4}\n",
    "                \"\"\".format(str(p[0]), closest_peak_at, deviation, threshold_deviation, move))\n",
    "                continue\n",
    "\n",
    "            if move == 'left':\n",
    "                rot = min(zeroRot + maxRot, rot+0.10*rot)\n",
    "            elif move == 'right':\n",
    "                rot = max(zeroRot -maxRot, rot-0.10*rot)\n",
    "            else:\n",
    "                rot = zeroRot\n",
    "\n",
    "            print(speed, roi_perc, peaks_threshold, threshold_deviation)\n",
    "            pwm0.duty_cycle = speed\n",
    "            pwm1.duty_cycle = int(rot)\n",
    "    except (KeyboardInterrupt, SystemExit):\n",
    "        # bring the car on rest in any system failure\n",
    "        print(\"Keyboard Interrup. Resetting Motor and Servo\")\n",
    "        pwm0.duty_cycle = minSpeed\n",
    "        pwm1.duty_cycle = zeroRot\n",
    "        stream.close()\n",
    "        rawCapture.close()\n",
    "        camera.close()\n",
    "    except Exception as e:\n",
    "        print(e)\n",
    "        pwm0.duty_cycle = minSpeed\n",
    "        pwm1.duty_cycle = zeroRot\n",
    "        stream.close()\n",
    "        rawCapture.close()\n",
    "        camera.close()\n",
    "    stream.close()\n",
    "    rawCapture.close()\n",
    "    camera.close()\n"
   ]
  },
  {
   "cell_type": "code",
   "execution_count": 6,
   "metadata": {},
   "outputs": [
    {
     "name": "stderr",
     "output_type": "stream",
     "text": [
      "/home/pi/.virtualenvs/raceon/lib/python3.5/site-packages/picamera/encoders.py:544: PiCameraResolutionRounded: frame size rounded up from 720x480 to 736x480\n",
      "  width, height, fwidth, fheight)))\n"
     ]
    }
   ],
   "source": [
    "t = threading.Thread(target = t_func)\n",
    "t.start()"
   ]
  },
  {
   "cell_type": "code",
   "execution_count": null,
   "metadata": {},
   "outputs": [],
   "source": [
    "# t.kill()"
   ]
  },
  {
   "cell_type": "code",
   "execution_count": 7,
   "metadata": {},
   "outputs": [
    {
     "data": {
      "application/vnd.jupyter.widget-view+json": {
       "model_id": "8544e1751a6a4e0285572c96a10c849b",
       "version_major": 2,
       "version_minor": 0
      },
      "text/plain": [
       "FloatSlider(value=5.0, max=10.0)"
      ]
     },
     "metadata": {},
     "output_type": "display_data"
    }
   ],
   "source": [
    "sl = widgets.FloatSlider(value=5, min=0, max=10)\n",
    "display(sl)"
   ]
  },
  {
   "cell_type": "code",
   "execution_count": 8,
   "metadata": {},
   "outputs": [
    {
     "name": "stdout",
     "output_type": "stream",
     "text": [
      "go straight\n",
      "1200000 0.8 0.9 0.15\n"
     ]
    }
   ],
   "source": [
    "sl.value = 2.2"
   ]
  },
  {
   "cell_type": "code",
   "execution_count": 9,
   "metadata": {},
   "outputs": [
    {
     "name": "stdout",
     "output_type": "stream",
     "text": [
      "go straight\n",
      "1200000 0.8 0.9 0.15\n",
      "go straight\n",
      "1200000 0.8 0.9 0.15\n",
      "go straight\n",
      "1200000 0.8 0.9 0.15\n",
      "go straight\n",
      "1200000 0.8 0.9 0.15\n",
      "go straight\n",
      "1200000 0.8 0.9 0.15\n",
      "go straight\n",
      "1200000 0.8 0.9 0.15\n",
      "go straight\n",
      "1200000 0.8 0.9 0.15\n",
      "go straight\n",
      "1200000 0.8 0.9 0.15\n",
      "go straight\n",
      "1200000 0.8 0.9 0.15\n",
      "go straight\n",
      "1200000 0.8 0.9 0.15\n",
      "go straight\n",
      "1200000 0.8 0.9 0.15\n",
      "go straight\n",
      "1200000 0.8 0.9 0.15\n",
      "go straight\n",
      "1200000 0.8 0.9 0.15\n",
      "go straight\n",
      "1200000 0.8 0.9 0.15\n",
      "go straight\n",
      "1200000 0.8 0.9 0.15\n",
      "go straight\n",
      "1200000 0.8 0.9 0.15\n"
     ]
    }
   ],
   "source": [
    "def f(s):\n",
    "    print(s['new'])\n",
    "\n",
    "sl.observe(f, names=\"value\")"
   ]
  },
  {
   "cell_type": "code",
   "execution_count": null,
   "metadata": {},
   "outputs": [],
   "source": []
  }
 ],
 "metadata": {
  "kernelspec": {
   "display_name": "Python 3",
   "language": "python",
   "name": "python3"
  },
  "language_info": {
   "codemirror_mode": {
    "name": "ipython",
    "version": 3
   },
   "file_extension": ".py",
   "mimetype": "text/x-python",
   "name": "python",
   "nbconvert_exporter": "python",
   "pygments_lexer": "ipython3",
   "version": "3.5.3"
  }
 },
 "nbformat": 4,
 "nbformat_minor": 2
}
