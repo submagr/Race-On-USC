{
 "cells": [
  {
   "cell_type": "code",
   "execution_count": 1,
   "metadata": {
    "scrolled": true
   },
   "outputs": [],
   "source": [
    "debug = False\n",
    "\n",
    "from picamera import PiCamera\n",
    "from picamera.array import PiRGBArray, PiYUVArray\n",
    "from scipy.signal import filtfilt, butter, find_peaks\n",
    "from pwm import PWM\n",
    "import sys\n",
    "from time import sleep\n",
    "import threading\n",
    "import ipywidgets as widgets"
   ]
  },
  {
   "cell_type": "code",
   "execution_count": 2,
   "metadata": {},
   "outputs": [
    {
     "name": "stdout",
     "output_type": "stream",
     "text": [
      "waiting for moter\n",
      "motor ready\n"
     ]
    }
   ],
   "source": [
    "minSpeed =  1000000 # 0 speed\n",
    "zeroRot  =  1000000\n",
    "maxRot   =   500000\n",
    "rot = zeroRot\n",
    "\n",
    "\n",
    "pwm0 = PWM(0)  # motor\n",
    "# pwm0.export()\n",
    "pwm0.period = 20000000\n",
    "pwm0.duty_cycle = minSpeed\n",
    "\n",
    "pwm1 = PWM(1)  # servo\n",
    "# pwm1.export() \n",
    "pwm1.period = 20000000\n",
    "pwm1.duty_cycle = zeroRot \n",
    "\n",
    "pwm0.enable = True\n",
    "pwm1.enable = True\n",
    "\n",
    "if not debug:\n",
    "    print(\"waiting for moter\")\n",
    "    sleep(3)\n",
    "    print(\"motor ready\")"
   ]
  },
  {
   "cell_type": "code",
   "execution_count": 3,
   "metadata": {},
   "outputs": [
    {
     "data": {
      "application/vnd.jupyter.widget-view+json": {
       "model_id": "3ece31b58c814af6b95a2e7b7e4a4b50",
       "version_major": 2,
       "version_minor": 0
      },
      "text/plain": [
       "FloatSlider(value=0.8, description='ROI line', max=1.0)"
      ]
     },
     "metadata": {},
     "output_type": "display_data"
    },
    {
     "data": {
      "application/vnd.jupyter.widget-view+json": {
       "model_id": "ce85ee60bbeb4e0b9fca7a841b6c026e",
       "version_major": 2,
       "version_minor": 0
      },
      "text/plain": [
       "FloatSlider(value=0.9, description='Peak threshold', max=1.0)"
      ]
     },
     "metadata": {},
     "output_type": "display_data"
    },
    {
     "data": {
      "application/vnd.jupyter.widget-view+json": {
       "model_id": "d8f730b4989f421cad2d40037fc26519",
       "version_major": 2,
       "version_minor": 0
      },
      "text/plain": [
       "FloatSlider(value=0.15, description='Threshold deviation', max=1.0)"
      ]
     },
     "metadata": {},
     "output_type": "display_data"
    },
    {
     "data": {
      "application/vnd.jupyter.widget-view+json": {
       "model_id": "b8d020b2f85c4bbba2d02c819d43016d",
       "version_major": 2,
       "version_minor": 0
      },
      "text/plain": [
       "IntSlider(value=2500, description='Kp', max=4000, min=1000, step=50)"
      ]
     },
     "metadata": {},
     "output_type": "display_data"
    },
    {
     "data": {
      "application/vnd.jupyter.widget-view+json": {
       "model_id": "6137b8d88c164f958a7015b9bbf6eb79",
       "version_major": 2,
       "version_minor": 0
      },
      "text/plain": [
       "IntSlider(value=1200000, description='Speed', max=2000000, min=1000000, step=50000)"
      ]
     },
     "metadata": {},
     "output_type": "display_data"
    },
    {
     "data": {
      "application/vnd.jupyter.widget-view+json": {
       "model_id": "077f4a00ef6940a4a791eaffac7002cd",
       "version_major": 2,
       "version_minor": 0
      },
      "text/plain": [
       "Checkbox(value=False, description='Terminate')"
      ]
     },
     "metadata": {},
     "output_type": "display_data"
    }
   ],
   "source": [
    "roi_perc = 0.8\n",
    "peaks_threshold = 0.9\n",
    "threshold_deviation = 0.15\n",
    "kp = 2500\n",
    "speed = 1150000\n",
    "terminate = False\n",
    "# if debug:\n",
    "#     speed = minSpeed\n",
    "\n",
    "def set_r_s(r):\n",
    "    global roi_perc\n",
    "    roi_perc = r[\"new\"]\n",
    "\n",
    "def set_p_s(p):\n",
    "    global peaks_threshold\n",
    "    peaks_threshold = p[\"new\"]\n",
    "    \n",
    "def set_t_s(t):\n",
    "    global threshold_deviation\n",
    "    threshold_deviation = t[\"new\"]  \n",
    "\n",
    "def set_k_s(k):\n",
    "    global kp\n",
    "    kp = k[\"new\"]      \n",
    "\n",
    "def set_s_s(s):\n",
    "    global speed\n",
    "    speed = s[\"new\"] \n",
    "\n",
    "def set_o_s(o):\n",
    "    global terminate\n",
    "    terminate = o[\"new\"] \n",
    "\n",
    "\n",
    "r_s = widgets.FloatSlider(description=\"ROI line\", value=0.8, min=0.0, max=1.0)\n",
    "p_s = widgets.FloatSlider(description=\"Peak threshold\", value=0.9, min=0.0, max=1.0)\n",
    "t_s = widgets.FloatSlider(description=\"Threshold deviation\", value=0.15, min=0.0, max=1.0)\n",
    "k_s = widgets.IntSlider(description=\"Kp\", value=2500, min=1000, max=4000, step = 50)\n",
    "s_s = widgets.IntSlider(description=\"Speed\", value=1200000, min=1000000, max=2000000, step=50000)\n",
    "o_s = widgets.Checkbox(description=\"Terminate\", value=False, disabled=False)\n",
    "\n",
    "r_s.observe(set_r_s, \"value\")\n",
    "p_s.observe(set_p_s, \"value\")\n",
    "t_s.observe(set_t_s, \"value\")\n",
    "k_s.observe(set_k_s, \"value\")\n",
    "s_s.observe(set_s_s, \"value\")\n",
    "o_s.observe(set_o_s, \"value\")\n",
    "display(r_s, p_s, t_s, k_s, s_s, o_s)"
   ]
  },
  {
   "cell_type": "code",
   "execution_count": 4,
   "metadata": {},
   "outputs": [],
   "source": [
    "# kp should be around 2500.\n",
    "# ki\n",
    "# get the error. Error is peak position - middle.\n",
    "# servo angle is 1.5 million + kp*error\n",
    "def t_func():\n",
    "    global rot\n",
    "    global roi_perc\n",
    "    global peaks_threshold\n",
    "    global threshold_deviation\n",
    "    global kp\n",
    "    global terminate\n",
    "    global speed\n",
    "    \n",
    "    rawCapture = PiYUVArray(camera)\n",
    "    stream = camera.capture_continuous(rawCapture, format=\"yuv\", use_video_port=True)\n",
    "    b, a = butter(3, 0.007)\n",
    "    try:\n",
    "        for frame in stream:\n",
    "            I = frame.array[:, :, 0]\n",
    "            rawCapture.truncate(0)\n",
    "\n",
    "            mid_horizontal = int(I.shape[0]*roi_perc)\n",
    "            mid_vertical = int(I.shape[1]/2)\n",
    "\n",
    "            L = I[mid_horizontal, :]\n",
    "            Lf = filtfilt(b, a, L)\n",
    "\n",
    "            # normalize LF\n",
    "            max_Lf = max(Lf)\n",
    "            min_Lf = min(Lf)\n",
    "            Lf = [val/(max_Lf - min_Lf) for val in Lf]\n",
    "\n",
    "            p = find_peaks(Lf, peaks_threshold)\n",
    "\n",
    "            closest_peak_at = -1\n",
    "            distance_peak = 1000000\n",
    "            for peak in p[0]:\n",
    "                if abs(mid_vertical - peak) < distance_peak:\n",
    "                    closest_peak_at = peak\n",
    "                    distance_peak = abs(mid_vertical - peak)\n",
    "        \n",
    "#             deviation = ((mid_vertical - closest_peak_at)*1.0)/mid_vertical\n",
    "\n",
    "#             if deviation < -1*threshold_deviation:\n",
    "#                 move = \"right\"\n",
    "#             elif -1*threshold_deviation <= deviation <= threshold_deviation:\n",
    "#                 move = \"straight\"\n",
    "#             else:\n",
    "#                 move = \"left\"\n",
    "            error = mid_horizontal - closest_peak_at\n",
    "            new_angle = zeroRot + kp*error\n",
    "            new_angle = max(zeroRot - maxRot, new_angle)\n",
    "            new_angle = min(zeroRot + maxRot, new_angle)\n",
    "            rot = new_angle\n",
    "#             if move == 'left':\n",
    "#                 rot = min(zeroRot + maxRot, rot+0.10*rot)\n",
    "#             elif move == 'right':\n",
    "#                 rot = max(zeroRot -maxRot, rot-0.10*rot)\n",
    "#             else:\n",
    "#                 rot = zeroRot\n",
    "\n",
    "#             print(speed, roi_perc, peaks_threshold, threshold_deviation)\n",
    "            pwm0.duty_cycle = speed\n",
    "            pwm1.duty_cycle = int(rot)\n",
    "            if terminate:\n",
    "                print(\"YAY! TERMINATING !!!!\")\n",
    "                pwm0.duty_cycle = minSpeed\n",
    "                pwm1.duty_cycle = zeroRot\n",
    "                stream.close()\n",
    "                rawCapture.close()\n",
    "                camera.close()\n",
    "                break\n",
    "    except:\n",
    "        pwm0.duty_cycle = minSpeed\n",
    "        pwm1.duty_cycle = zeroRot\n",
    "        stream.close()\n",
    "        rawCapture.close()\n",
    "        camera.close()"
   ]
  },
  {
   "cell_type": "code",
   "execution_count": 5,
   "metadata": {},
   "outputs": [
    {
     "name": "stderr",
     "output_type": "stream",
     "text": [
      "/home/pi/.virtualenvs/raceon/lib/python3.5/site-packages/picamera/encoders.py:544: PiCameraResolutionRounded: frame size rounded up from 720x480 to 736x480\n",
      "  width, height, fwidth, fheight)))\n"
     ]
    }
   ],
   "source": [
    "camera = PiCamera()\n",
    "\n",
    "t = threading.Thread(target = t_func)\n",
    "t.start()"
   ]
  }
 ],
 "metadata": {
  "kernelspec": {
   "display_name": "Python 3",
   "language": "python",
   "name": "python3"
  },
  "language_info": {
   "codemirror_mode": {
    "name": "ipython",
    "version": 3
   },
   "file_extension": ".py",
   "mimetype": "text/x-python",
   "name": "python",
   "nbconvert_exporter": "python",
   "pygments_lexer": "ipython3",
   "version": "3.5.3"
  }
 },
 "nbformat": 4,
 "nbformat_minor": 2
}
