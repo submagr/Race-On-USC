{
 "cells": [
  {
   "cell_type": "code",
   "execution_count": 6,
   "metadata": {
    "scrolled": true
   },
   "outputs": [],
   "source": [
    "debug = False\n",
    "\n",
    "from picamera import PiCamera\n",
    "from picamera.array import PiRGBArray, PiYUVArray\n",
    "from scipy.signal import filtfilt, butter, find_peaks\n",
    "from pwm import PWM\n",
    "import sys\n",
    "from time import sleep\n",
    "import threading\n",
    "import ipywidgets as widgets\n",
    "from ivPID import PID\n",
    "import time\n",
    "import numpy as np"
   ]
  },
  {
   "cell_type": "code",
   "execution_count": 7,
   "metadata": {
    "scrolled": true
   },
   "outputs": [
    {
     "name": "stdout",
     "output_type": "stream",
     "text": [
      "waiting for moter\n",
      "motor ready\n"
     ]
    }
   ],
   "source": [
    "minSpeed =  1000000 # 0 speed\n",
    "zeroRot  =  1000000\n",
    "maxRot   =   500000\n",
    "rot = zeroRot\n",
    "\n",
    "\n",
    "pwm0 = PWM(0)  # motor\n",
    "# pwm0.export()\n",
    "pwm0.period = 20000000\n",
    "pwm0.duty_cycle = minSpeed\n",
    "\n",
    "pwm1 = PWM(1)  # servo\n",
    "# pwm1.export() \n",
    "pwm1.period = 20000000\n",
    "pwm1.duty_cycle = zeroRot \n",
    "\n",
    "pwm0.enable = True\n",
    "pwm1.enable = True\n",
    "\n",
    "if not debug:\n",
    "    print(\"waiting for moter\")\n",
    "    sleep(3)\n",
    "    print(\"motor ready\")"
   ]
  },
  {
   "cell_type": "code",
   "execution_count": 8,
   "metadata": {
    "scrolled": false
   },
   "outputs": [
    {
     "data": {
      "application/vnd.jupyter.widget-view+json": {
       "model_id": "4191c259f11345bc9f17e97608b0155c",
       "version_major": 2,
       "version_minor": 0
      },
      "text/plain": [
       "FloatSlider(value=0.8, description='ROI line', max=1.0)"
      ]
     },
     "metadata": {},
     "output_type": "display_data"
    },
    {
     "data": {
      "application/vnd.jupyter.widget-view+json": {
       "model_id": "28c89e00f56843dc97419cf8a6c22672",
       "version_major": 2,
       "version_minor": 0
      },
      "text/plain": [
       "FloatSlider(value=0.06, description='Peak threshold', max=1.0, step=0.002)"
      ]
     },
     "metadata": {},
     "output_type": "display_data"
    },
    {
     "data": {
      "application/vnd.jupyter.widget-view+json": {
       "model_id": "bbdc3fb1d36a48b88e5c1a6c1ac33427",
       "version_major": 2,
       "version_minor": 0
      },
      "text/plain": [
       "FloatSlider(value=0.15, description='Threshold deviation', max=1.0)"
      ]
     },
     "metadata": {},
     "output_type": "display_data"
    },
    {
     "data": {
      "application/vnd.jupyter.widget-view+json": {
       "model_id": "d8b3dbddb2c046b38553a920fd7c7b23",
       "version_major": 2,
       "version_minor": 0
      },
      "text/plain": [
       "IntSlider(value=2500, description='Kp', max=4000, step=50)"
      ]
     },
     "metadata": {},
     "output_type": "display_data"
    },
    {
     "data": {
      "application/vnd.jupyter.widget-view+json": {
       "model_id": "d7f438bdb929400e970bbc444d4867d4",
       "version_major": 2,
       "version_minor": 0
      },
      "text/plain": [
       "IntSlider(value=0, description='Ki', max=4000, step=50)"
      ]
     },
     "metadata": {},
     "output_type": "display_data"
    },
    {
     "data": {
      "application/vnd.jupyter.widget-view+json": {
       "model_id": "bfddc4d1858d47d5bbd185c92bb9d835",
       "version_major": 2,
       "version_minor": 0
      },
      "text/plain": [
       "IntSlider(value=0, description='Kd', max=4000, step=50)"
      ]
     },
     "metadata": {},
     "output_type": "display_data"
    },
    {
     "data": {
      "application/vnd.jupyter.widget-view+json": {
       "model_id": "f8cb6a3aa7c74e129d903d68a0a23a96",
       "version_major": 2,
       "version_minor": 0
      },
      "text/plain": [
       "IntSlider(value=1200000, description='Speed', max=2000000, min=1000000, step=50000)"
      ]
     },
     "metadata": {},
     "output_type": "display_data"
    },
    {
     "data": {
      "application/vnd.jupyter.widget-view+json": {
       "model_id": "9180d2e9a2f44f9baf8536e2ecc5bce4",
       "version_major": 2,
       "version_minor": 0
      },
      "text/plain": [
       "Checkbox(value=False, description='Terminate')"
      ]
     },
     "metadata": {},
     "output_type": "display_data"
    }
   ],
   "source": [
    "roi_perc = 0.8\n",
    "peaks_threshold = 0.06\n",
    "threshold_deviation = 0.15\n",
    "kp = 2500\n",
    "ki = 0\n",
    "kd = 0\n",
    "speed = 1150000\n",
    "terminate = False\n",
    "\n",
    "\n",
    "def set_r_s(r):\n",
    "    global roi_perc\n",
    "    roi_perc = r[\"new\"]\n",
    "\n",
    "def set_p_s(p):\n",
    "    global peaks_threshold\n",
    "    peaks_threshold = p[\"new\"]\n",
    "    \n",
    "def set_t_s(t):\n",
    "    global threshold_deviation\n",
    "    threshold_deviation = t[\"new\"]  \n",
    "\n",
    "def set_k_s(k):\n",
    "    global kp\n",
    "    kp = k[\"new\"]      \n",
    "\n",
    "def set_kd_s(k):\n",
    "    global kd\n",
    "    kd = k[\"new\"]\n",
    "\n",
    "def set_ki_s(k):\n",
    "    global ki\n",
    "    ki = k[\"new\"]\n",
    "\n",
    "def set_s_s(s):\n",
    "    global speed\n",
    "    speed = s[\"new\"] \n",
    "\n",
    "def set_o_s(o):\n",
    "    global terminate\n",
    "    terminate = o[\"new\"] \n",
    "\n",
    "\n",
    "r_s = widgets.FloatSlider(description=\"ROI line\", value=0.8, min=0.0, max=1.0)\n",
    "p_s = widgets.FloatSlider(description=\"Peak threshold\", value=0.060, min=0.000, max=1.000, step = 0.002)\n",
    "t_s = widgets.FloatSlider(description=\"Threshold deviation\", value=0.15, min=0.0, max=1.0)\n",
    "k_s = widgets.IntSlider(description=\"Kp\", value=2500, min=0, max=4000, step = 50)\n",
    "ki_s = widgets.IntSlider(description=\"Ki\", value=0, min=0, max=4000, step = 50)\n",
    "kd_s = widgets.IntSlider(description=\"Kd\", value=0, min=0, max=4000, step = 50)\n",
    "s_s = widgets.IntSlider(description=\"Speed\", value=1200000, min=1000000, max=2000000, step=50000)\n",
    "o_s = widgets.Checkbox(description=\"Terminate\", value=False, disabled=False)\n",
    "\n",
    "r_s.observe(set_r_s, \"value\")\n",
    "p_s.observe(set_p_s, \"value\")\n",
    "t_s.observe(set_t_s, \"value\")\n",
    "k_s.observe(set_k_s, \"value\")\n",
    "ki_s.observe(set_ki_s, \"value\")\n",
    "kd_s.observe(set_kd_s, \"value\")\n",
    "s_s.observe(set_s_s, \"value\")\n",
    "o_s.observe(set_o_s, \"value\")\n",
    "display(r_s, p_s, t_s, k_s, ki_s, kd_s, s_s, o_s)\n",
    "# kp 1150\n",
    "# ki 450\n",
    "# kd 0"
   ]
  },
  {
   "cell_type": "code",
   "execution_count": 9,
   "metadata": {},
   "outputs": [],
   "source": [
    "def t_func():\n",
    "    global rot\n",
    "    global roi_perc\n",
    "    global peaks_threshold\n",
    "    global threshold_deviation\n",
    "    global kp\n",
    "    global ki\n",
    "    global kd\n",
    "    global terminate\n",
    "    global speed\n",
    "    global res\n",
    "    \n",
    "    rawCapture = PiYUVArray(camera, res)\n",
    "    stream = camera.capture_continuous(rawCapture, format=\"yuv\", use_video_port=True)\n",
    "    mid_horizontal = int(res[1]*roi_perc)\n",
    "    mid_vertical = int(res[0]/2)\n",
    "\n",
    "    b, a = butter(3, 0.007)\n",
    "    pid = PID.PID(kp, ki, kd)\n",
    "    pid.SetPoint=0.0\n",
    "    pid.setSampleTime(0.01)\n",
    "    \n",
    "    try:\n",
    "        t = time.time()\n",
    "        loopCount = 0\n",
    "        for frame in stream:\n",
    "            pid.setKp(kp)\n",
    "            pid.setKi(ki)\n",
    "            pid.setKd(kd)\n",
    "            I = frame.array[:, :, 0]\n",
    "            rawCapture.truncate(0)\n",
    "\n",
    "            L = I[mid_horizontal, :]\n",
    "            Lf = filtfilt(b, a, L)\n",
    "            Lf = Lf/np.linalg.norm(Lf)\n",
    "            p = find_peaks(Lf, peaks_threshold)\n",
    "\n",
    "            closest_peak_at = -1\n",
    "            distance_peak = float(\"inf\")\n",
    "            for peak in p[0]:\n",
    "                if abs(mid_vertical - peak) < distance_peak:\n",
    "                    closest_peak_at = peak\n",
    "                    distance_peak = abs(mid_vertical - peak)\n",
    "        \n",
    "            error = mid_horizontal - closest_peak_at\n",
    "            pid.update(error)\n",
    "            rot = zeroRot - pid.output\n",
    "            rot = max(zeroRot - maxRot, rot)\n",
    "            rot = min(zeroRot + maxRot, rot)\n",
    "\n",
    "            pwm0.duty_cycle = speed\n",
    "            pwm1.duty_cycle = int(rot)\n",
    "            loopCount += 1\n",
    "            if terminate:\n",
    "                print(\"YAY! TERMINATING !!!!\")\n",
    "                pwm0.duty_cycle = minSpeed\n",
    "                pwm1.duty_cycle = zeroRot\n",
    "                stream.close()\n",
    "                rawCapture.close()\n",
    "                camera.close()\n",
    "                \n",
    "                time_elapsed = time.time() - t \n",
    "                print(\"Elapsed {:0.2f} seconds, estimated FPS {:0.2f}\".format(time_elapsed, loopCount / time_elapsed))\n",
    "    except Exception as e:\n",
    "        pwm0.duty_cycle = minSpeed\n",
    "        pwm1.duty_cycle = zeroRot\n",
    "        stream.close()\n",
    "        rawCapture.close()\n",
    "        camera.close()\n",
    "        print(\"Some Exception Occured\")\n",
    "        print(e)"
   ]
  },
  {
   "cell_type": "code",
   "execution_count": 10,
   "metadata": {
    "scrolled": false
   },
   "outputs": [],
   "source": [
    "res = (640, 480)\n",
    "camera = PiCamera()\n",
    "camera.sensor_mode = 7\n",
    "camera.resolution = res\n",
    "camera.framerate = 120\n",
    "\n",
    "t = threading.Thread(target = t_func)\n",
    "t.start()"
   ]
  },
  {
   "cell_type": "code",
   "execution_count": null,
   "metadata": {},
   "outputs": [],
   "source": [
    "camera.close()"
   ]
  },
  {
   "cell_type": "code",
   "execution_count": null,
   "metadata": {},
   "outputs": [],
   "source": []
  }
 ],
 "metadata": {
  "kernelspec": {
   "display_name": "Python 3",
   "language": "python",
   "name": "python3"
  },
  "language_info": {
   "codemirror_mode": {
    "name": "ipython",
    "version": 3
   },
   "file_extension": ".py",
   "mimetype": "text/x-python",
   "name": "python",
   "nbconvert_exporter": "python",
   "pygments_lexer": "ipython3",
   "version": "3.5.3"
  }
 },
 "nbformat": 4,
 "nbformat_minor": 2
}
