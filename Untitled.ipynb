{
 "cells": [
  {
   "cell_type": "code",
   "execution_count": 6,
   "metadata": {},
   "outputs": [],
   "source": [
    "from picamera.array import PiYUVArray, PiRGBArray\n",
    "from picamera import PiCamera\n",
    "from scipy.signal import find_peaks, butter, filtfilt\n",
    "import time\n",
    "import matplotlib.pyplot as plt\n",
    "import skimage as ski\n",
    "import io\n",
    "from PIL import Image\n"
   ]
  },
  {
   "cell_type": "code",
   "execution_count": 7,
   "metadata": {},
   "outputs": [
    {
     "ename": "SyntaxError",
     "evalue": "invalid syntax (<ipython-input-7-c1a8a59acdcf>, line 1)",
     "output_type": "error",
     "traceback": [
      "\u001b[0;36m  File \u001b[0;32m\"<ipython-input-7-c1a8a59acdcf>\"\u001b[0;36m, line \u001b[0;32m1\u001b[0m\n\u001b[0;31m    def cameraInterface:\u001b[0m\n\u001b[0m                       ^\u001b[0m\n\u001b[0;31mSyntaxError\u001b[0m\u001b[0;31m:\u001b[0m invalid syntax\n"
     ]
    }
   ],
   "source": [
    "def cameraInterface:\n",
    "    def __init__(self, res = (1280, 720)):\n",
    "        self.res = res\n",
    "        camera = PiCamera()\n",
    "        camera.sensor_mode = 7\n",
    "        camera.resolution = res\n",
    "        camera.framerate = 90\n",
    "        #camera.framerate = 30\n",
    "    # Wait for the automatic gain control to settle\n",
    "        time.sleep(2)\n",
    "    # Now fix the values\n",
    "        camera.shutter_speed = camera.exposure_speed\n",
    "        camera.exposure_mode = 'off'\n",
    "        g = camera.awb_gains\n",
    "        camera.awb_mode = 'off'\n",
    "        camera.awb_gains = g\n",
    "        self.camera = cameraInterface\n",
    "        \n",
    "    def getImage(self):\n",
    "        # Initialize the buffer and start capturing\n",
    "        rawCapture = PiRGBArray(self.camera, size=self.res)\n",
    "        stream = self.camera.capture_continuous(rawCapture, format=\"rgb\", use_video_port=True)\n",
    "        I = ski.color.rgb2gray(frame.array[0:320, 0:240, :])\n",
    "        stream.close()\n",
    "        rawCapture.close()\n",
    "        camera.close()\n",
    "        \n",
    "        plt.imshow(frame.array)\n",
    "        \n",
    "        \n",
    "        b, a = butter(3, 0.02)\n",
    "        # Create the in-memory stream\n",
    "        stream = io.BytesIO()\n",
    "        with picamera.PiCamera() as camera:\n",
    "            camera.start_preview()\n",
    "            time.sleep(2)\n",
    "            camera.capture(stream, format='jpeg')\n",
    "        # \"Rewind\" the stream to the beginning so we can read its content\n",
    "        stream.seek(0)\n",
    "        image = Image.open(stream)"
   ]
  },
  {
   "cell_type": "code",
   "execution_count": null,
   "metadata": {},
   "outputs": [],
   "source": []
  }
 ],
 "metadata": {
  "kernelspec": {
   "display_name": "Python 3",
   "language": "python",
   "name": "python3"
  },
  "language_info": {
   "codemirror_mode": {
    "name": "ipython",
    "version": 3
   },
   "file_extension": ".py",
   "mimetype": "text/x-python",
   "name": "python",
   "nbconvert_exporter": "python",
   "pygments_lexer": "ipython3",
   "version": "3.5.3"
  }
 },
 "nbformat": 4,
 "nbformat_minor": 2
}
